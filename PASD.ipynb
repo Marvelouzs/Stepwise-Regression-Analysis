{
  "cells": [
    {
      "cell_type": "code",
      "source": [
        "import pandas as pd\r\n",
        "import numpy as np\r\n",
        "import scipy.stats as stats\r\n",
        "from numpy.linalg import inv"
      ],
      "outputs": [],
      "execution_count": 1,
      "metadata": {
        "gather": {
          "logged": 1686418890702
        }
      }
    },
    {
      "cell_type": "code",
      "source": [
        "def clean_data(df):\r\n",
        "    for col in df.columns:\r\n",
        "        if df[col].dtype == 'object':\r\n",
        "            df[col] = df[col].str.replace(\",\", \"\").str.replace(\"$\", \"\").astype(float)\r\n",
        "    return df.dropna()"
      ],
      "outputs": [],
      "execution_count": 2,
      "metadata": {
        "jupyter": {
          "source_hidden": false,
          "outputs_hidden": false
        },
        "nteract": {
          "transient": {
            "deleting": false
          }
        },
        "gather": {
          "logged": 1686418890913
        }
      }
    },
    {
      "cell_type": "code",
      "source": [
        "# Read data\r\n",
        "data = pd.read_csv(\"factbookv2.csv\")\r\n",
        "\r\n",
        "# Filter and process the data\r\n",
        "data_dipake = [\"GDP\", \"Exports\", \"Imports\", \"Industrial production growth rate\", \"Investment\", \"Unemployment rate\"]\r\n",
        "df = clean_data(data[data_dipake])\r\n",
        "\r\n",
        "# Check for missing values and display the first five rows\r\n",
        "print(df.isnull().sum())\r\n",
        "df.head()"
      ],
      "outputs": [
        {
          "output_type": "stream",
          "name": "stdout",
          "text": "GDP                                  0\nExports                              0\nImports                              0\nIndustrial production growth rate    0\nInvestment                           0\nUnemployment rate                    0\ndtype: int64\n"
        },
        {
          "output_type": "stream",
          "name": "stderr",
          "text": "/tmp/ipykernel_9396/4068154764.py:4: SettingWithCopyWarning: \nA value is trying to be set on a copy of a slice from a DataFrame.\nTry using .loc[row_indexer,col_indexer] = value instead\n\nSee the caveats in the documentation: https://pandas.pydata.org/pandas-docs/stable/user_guide/indexing.html#returning-a-view-versus-a-copy\n  df[col] = df[col].str.replace(\",\", \"\").str.replace(\"$\", \"\").astype(float)\n/tmp/ipykernel_9396/4068154764.py:4: SettingWithCopyWarning: \nA value is trying to be set on a copy of a slice from a DataFrame.\nTry using .loc[row_indexer,col_indexer] = value instead\n\nSee the caveats in the documentation: https://pandas.pydata.org/pandas-docs/stable/user_guide/indexing.html#returning-a-view-versus-a-copy\n  df[col] = df[col].str.replace(\",\", \"\").str.replace(\"$\", \"\").astype(float)\n/tmp/ipykernel_9396/4068154764.py:4: SettingWithCopyWarning: \nA value is trying to be set on a copy of a slice from a DataFrame.\nTry using .loc[row_indexer,col_indexer] = value instead\n\nSee the caveats in the documentation: https://pandas.pydata.org/pandas-docs/stable/user_guide/indexing.html#returning-a-view-versus-a-copy\n  df[col] = df[col].str.replace(\",\", \"\").str.replace(\"$\", \"\").astype(float)\n"
        },
        {
          "output_type": "execute_result",
          "execution_count": 3,
          "data": {
            "text/plain": "            GDP       Exports       Imports   \n0  1.746000e+10  5.524000e+08  2.076000e+09  \\\n1  2.123000e+11  3.216000e+10  1.525000e+10   \n3  4.835000e+11  3.378000e+10  2.206000e+10   \n4  1.365000e+10  8.500000e+08  1.300000e+09   \n5  6.117000e+11  8.689000e+10  9.810000e+10   \n\n   Industrial production growth rate  Investment  Unemployment rate  \n0                                3.1        18.4               14.8  \n1                                6.0        26.2               25.4  \n3                               12.0        18.3               14.8  \n4                               15.0        19.8               30.0  \n5                                1.9        25.3                5.1  ",
            "text/html": "<div>\n<style scoped>\n    .dataframe tbody tr th:only-of-type {\n        vertical-align: middle;\n    }\n\n    .dataframe tbody tr th {\n        vertical-align: top;\n    }\n\n    .dataframe thead th {\n        text-align: right;\n    }\n</style>\n<table border=\"1\" class=\"dataframe\">\n  <thead>\n    <tr style=\"text-align: right;\">\n      <th></th>\n      <th>GDP</th>\n      <th>Exports</th>\n      <th>Imports</th>\n      <th>Industrial production growth rate</th>\n      <th>Investment</th>\n      <th>Unemployment rate</th>\n    </tr>\n  </thead>\n  <tbody>\n    <tr>\n      <th>0</th>\n      <td>1.746000e+10</td>\n      <td>5.524000e+08</td>\n      <td>2.076000e+09</td>\n      <td>3.1</td>\n      <td>18.4</td>\n      <td>14.8</td>\n    </tr>\n    <tr>\n      <th>1</th>\n      <td>2.123000e+11</td>\n      <td>3.216000e+10</td>\n      <td>1.525000e+10</td>\n      <td>6.0</td>\n      <td>26.2</td>\n      <td>25.4</td>\n    </tr>\n    <tr>\n      <th>3</th>\n      <td>4.835000e+11</td>\n      <td>3.378000e+10</td>\n      <td>2.206000e+10</td>\n      <td>12.0</td>\n      <td>18.3</td>\n      <td>14.8</td>\n    </tr>\n    <tr>\n      <th>4</th>\n      <td>1.365000e+10</td>\n      <td>8.500000e+08</td>\n      <td>1.300000e+09</td>\n      <td>15.0</td>\n      <td>19.8</td>\n      <td>30.0</td>\n    </tr>\n    <tr>\n      <th>5</th>\n      <td>6.117000e+11</td>\n      <td>8.689000e+10</td>\n      <td>9.810000e+10</td>\n      <td>1.9</td>\n      <td>25.3</td>\n      <td>5.1</td>\n    </tr>\n  </tbody>\n</table>\n</div>"
          },
          "metadata": {}
        }
      ],
      "execution_count": 3,
      "metadata": {
        "jupyter": {
          "source_hidden": false,
          "outputs_hidden": false
        },
        "nteract": {
          "transient": {
            "deleting": false
          }
        },
        "gather": {
          "logged": 1686418891355
        }
      }
    },
    {
      "cell_type": "code",
      "source": [
        "def create_X(df, *vars):\r\n",
        "    n = df['GDP'].count()\r\n",
        "    X = np.array([np.ones(n)] + [df[var] for var in vars]).T\r\n",
        "    return X\r\n",
        "\r\n",
        "def calculate_b(X, Y):\r\n",
        "    return np.matmul(np.matmul(inv(np.matmul(X.T, X)), X.T), Y)\r\n",
        "\r\n",
        "def calculate_y_hat(X, b):\r\n",
        "    return np.matmul(X, b)\r\n",
        "\r\n",
        "def calculate_Rb(y_hat, y_avg):\r\n",
        "    return np.matmul((y_hat - y_avg).T, (y_hat - y_avg))\r\n",
        "\r\n",
        "def calculate_f(Rb, sse, n, k):\r\n",
        "    return Rb / (sse / (n - k - 1))\r\n"
      ],
      "outputs": [],
      "execution_count": 4,
      "metadata": {
        "jupyter": {
          "source_hidden": false,
          "outputs_hidden": false
        },
        "nteract": {
          "transient": {
            "deleting": false
          }
        },
        "gather": {
          "logged": 1686418891582
        }
      }
    },
    {
      "cell_type": "code",
      "source": [
        "def R_vars(df, *vars):\r\n",
        "    n = df['GDP'].count()\r\n",
        "    Y = np.array([df['GDP']]).T\r\n",
        "    y_avg = np.average(Y)\r\n",
        "    X = create_X(df, *vars)\r\n",
        "    b = calculate_b(X, Y)\r\n",
        "    y_hat = calculate_y_hat(X, b)\r\n",
        "    Rb = calculate_Rb(y_hat, y_avg)\r\n",
        "    return Rb, y_hat"
      ],
      "outputs": [],
      "execution_count": 5,
      "metadata": {
        "jupyter": {
          "source_hidden": false,
          "outputs_hidden": false
        },
        "nteract": {
          "transient": {
            "deleting": false
          }
        },
        "gather": {
          "logged": 1686418891789
        }
      }
    },
    {
      "cell_type": "code",
      "source": [
        "# Calculate Rb and y_hat for each model\r\n",
        "Rb1, y_hat1 = R_vars(df, 'Exports')\r\n",
        "Rb2, y_hat2 = R_vars(df, 'Imports')\r\n",
        "Rb3, y_hat3 = R_vars(df, 'Industrial production growth rate')\r\n",
        "Rb4, y_hat4 = R_vars(df, 'Investment')\r\n",
        "Rb5, y_hat5 = R_vars(df, 'Unemployment rate')"
      ],
      "outputs": [],
      "execution_count": 6,
      "metadata": {
        "jupyter": {
          "source_hidden": false,
          "outputs_hidden": false
        },
        "nteract": {
          "transient": {
            "deleting": false
          }
        },
        "gather": {
          "logged": 1686418892012
        }
      }
    },
    {
      "cell_type": "code",
      "source": [
        "print(Rb1);print(Rb2);print(Rb3);print(Rb4);print(Rb5)"
      ],
      "outputs": [
        {
          "output_type": "stream",
          "name": "stdout",
          "text": "[[1.28742661e+26]]\n[[1.7256398e+26]]\n[[2.4349925e+23]]\n[[6.95704935e+23]]\n[[5.23362087e+24]]\n"
        }
      ],
      "execution_count": 7,
      "metadata": {
        "jupyter": {
          "source_hidden": false,
          "outputs_hidden": false
        },
        "nteract": {
          "transient": {
            "deleting": false
          }
        },
        "gather": {
          "logged": 1686418892235
        }
      }
    },
    {
      "cell_type": "code",
      "source": [
        "Y = np.array([df['GDP']]).T\r\n",
        "n = df['GDP'].count()"
      ],
      "outputs": [],
      "execution_count": 8,
      "metadata": {
        "jupyter": {
          "source_hidden": false,
          "outputs_hidden": false
        },
        "nteract": {
          "transient": {
            "deleting": false
          }
        },
        "gather": {
          "logged": 1686418892570
        }
      }
    },
    {
      "cell_type": "code",
      "source": [
        "# Cek b2 signifikan atau tidak\r\n",
        "k = 1\r\n",
        "\r\n",
        "sse2 = np.matmul((Y - y_hat2).T, (Y - y_hat2))\r\n",
        "print(f\"MSE Model 2: {sse2}\")\r\n",
        "f2 = Rb2/(sse2 / (n - k - 1))\r\n",
        "print(f\"f dari Model 2: {f2}\")\r\n",
        "f_table = stats.f.ppf(0.95, 1, n-k-1)\r\n",
        "print(f\"f dari tabel: {f_table}\")\r\n"
      ],
      "outputs": [
        {
          "output_type": "stream",
          "name": "stdout",
          "text": "MSE Model 2: [[4.49802423e+25]]\nf dari Model 2: [[437.35410609]]\nf dari tabel: 3.924330484639666\n"
        }
      ],
      "execution_count": 9,
      "metadata": {
        "jupyter": {
          "source_hidden": false,
          "outputs_hidden": false
        },
        "nteract": {
          "transient": {
            "deleting": false
          }
        },
        "gather": {
          "logged": 1686418892890
        }
      }
    },
    {
      "cell_type": "code",
      "source": [
        "# Calculate Rb and y_hat for combined models\r\n",
        "Rb21, y_hat21 = R_vars(df, 'Imports', 'Exports')\r\n",
        "Rb23, y_hat23 = R_vars(df, 'Imports', 'Industrial production growth rate')\r\n",
        "Rb24, y_hat24 = R_vars(df, 'Imports', 'Investment')\r\n",
        "Rb25, y_hat25 = R_vars(df, 'Imports', 'Unemployment rate')"
      ],
      "outputs": [],
      "execution_count": 10,
      "metadata": {
        "jupyter": {
          "source_hidden": false,
          "outputs_hidden": false
        },
        "nteract": {
          "transient": {
            "deleting": false
          }
        },
        "gather": {
          "logged": 1686418893256
        }
      }
    },
    {
      "cell_type": "code",
      "source": [
        "print(Rb21);print(Rb23);print(Rb24);print(Rb25)"
      ],
      "outputs": [
        {
          "output_type": "stream",
          "name": "stdout",
          "text": "[[1.76619881e+26]]\n[[1.74719666e+26]]\n[[1.73664248e+26]]\n[[1.72864702e+26]]\n"
        }
      ],
      "execution_count": 11,
      "metadata": {
        "jupyter": {
          "source_hidden": false,
          "outputs_hidden": false
        },
        "nteract": {
          "transient": {
            "deleting": false
          }
        },
        "gather": {
          "logged": 1686418893586
        }
      }
    },
    {
      "cell_type": "code",
      "source": [
        "# Cek penambahan b1 signifikan atau tidak (R(b1 | b2))\r\n",
        "# (R(b1 | b2) = R(b1, b2) - R(b2))\r\n",
        "k = 2\r\n",
        "\r\n",
        "sse21 = np.matmul((Y - y_hat21).T, (Y - y_hat21))\r\n",
        "print(f\"MSE Model B1: {sse21}\")\r\n",
        "f21 = (Rb21 - Rb2)/(sse21 / (n - k - 1))\r\n",
        "print(f\"f penambahan variabel 1 pada Model B1: {f21}\")\r\n",
        "f_table = stats.f.ppf(0.95, 1, n-k-1)\r\n",
        "print(f\"f dari tabel: {f_table}\")\r\n"
      ],
      "outputs": [
        {
          "output_type": "stream",
          "name": "stdout",
          "text": "MSE Model B1: [[4.09243406e+25]]\nf penambahan variabel 1 pada Model B1: [[11.19912731]]\nf dari tabel: 3.9250756165304113\n"
        }
      ],
      "execution_count": 12,
      "metadata": {
        "jupyter": {
          "source_hidden": false,
          "outputs_hidden": false
        },
        "nteract": {
          "transient": {
            "deleting": false
          }
        },
        "gather": {
          "logged": 1686418893923
        }
      }
    },
    {
      "cell_type": "code",
      "source": [
        "# Cek apakah b2 masih signifikan atau tidak, setelah penambahan b1\r\n",
        "# (R(b2 | b1) = R(b2, b1) - R(b1))\r\n",
        "k = 2\r\n",
        "\r\n",
        "sse21 = np.matmul((Y - y_hat21).T, (Y - y_hat21))\r\n",
        "print(f\"MSE Model B1: {sse21}\")\r\n",
        "f21 = (Rb21 - Rb1)/(sse21 / (n - k - 1))\r\n",
        "print(f\"f b2 setelah ditambahkan b1 Model B1: {f21}\")\r\n",
        "f_table = stats.f.ppf(0.95, 1, n-k-1)\r\n",
        "print(f\"f dari tabel: {f_table}\")"
      ],
      "outputs": [
        {
          "output_type": "stream",
          "name": "stdout",
          "text": "MSE Model B1: [[4.09243406e+25]]\nf b2 setelah ditambahkan b1 Model B1: [[132.19824267]]\nf dari tabel: 3.9250756165304113\n"
        }
      ],
      "execution_count": 13,
      "metadata": {
        "jupyter": {
          "source_hidden": false,
          "outputs_hidden": false
        },
        "nteract": {
          "transient": {
            "deleting": false
          }
        },
        "gather": {
          "logged": 1686418894281
        }
      }
    },
    {
      "cell_type": "code",
      "source": [
        "# Calculate Rb and y_hat for 3-variable models\r\n",
        "Rb213, y_hat213 = R_vars(df, 'Imports', 'Exports', 'Industrial production growth rate')\r\n",
        "Rb214, y_hat214 = R_vars(df, 'Imports', 'Exports', 'Investment')\r\n",
        "Rb215, y_hat215 = R_vars(df, 'Imports', 'Exports', 'Unemployment rate')"
      ],
      "outputs": [],
      "execution_count": 14,
      "metadata": {
        "jupyter": {
          "source_hidden": false,
          "outputs_hidden": false
        },
        "nteract": {
          "transient": {
            "deleting": false
          }
        },
        "gather": {
          "logged": 1686418894612
        }
      }
    },
    {
      "cell_type": "code",
      "source": [
        "print(Rb213)\r\n",
        "print(Rb214)\r\n",
        "print(Rb215)"
      ],
      "outputs": [
        {
          "output_type": "stream",
          "name": "stdout",
          "text": "[[1.78669291e+26]]\n[[1.77947588e+26]]\n[[1.76714336e+26]]\n"
        }
      ],
      "execution_count": 15,
      "metadata": {
        "jupyter": {
          "source_hidden": false,
          "outputs_hidden": false
        },
        "nteract": {
          "transient": {
            "deleting": false
          }
        },
        "gather": {
          "logged": 1686418894971
        }
      }
    },
    {
      "cell_type": "code",
      "source": [
        "# Cek penambahan b3 signifikan atau tidak (R(b3 | b2, b1))\r\n",
        "# (R(b3 | b1, b2) = R(b1, b2, b3) - R(b1, b2))\r\n",
        "k = 3\r\n",
        "\r\n",
        "sse312 = np.matmul((Y - y_hat213).T, (Y - y_hat213))\r\n",
        "print(f\"MSE Model C1: {sse312}\")\r\n",
        "f312 = (Rb213 - Rb21)/(sse312 / (n - k - 1))\r\n",
        "print(f\"f penambahan variabel 3 pada Model C1: {f312}\")\r\n",
        "f_table = stats.f.ppf(0.95, 1, n-k-1)\r\n",
        "print(f\"f dari tabel: {f_table}\")\r\n"
      ],
      "outputs": [
        {
          "output_type": "stream",
          "name": "stdout",
          "text": "MSE Model C1: [[3.88749308e+25]]\nf penambahan variabel 3 pada Model C1: [[5.90441939]]\nf dari tabel: 3.9258342687862307\n"
        }
      ],
      "execution_count": 16,
      "metadata": {
        "jupyter": {
          "source_hidden": false,
          "outputs_hidden": false
        },
        "nteract": {
          "transient": {
            "deleting": false
          }
        },
        "gather": {
          "logged": 1686418895296
        }
      }
    },
    {
      "cell_type": "code",
      "source": [
        "# Cek apakah b1 masih signifikan setelah b3 ditambahkan\r\n",
        "# (R(b1 | b2, b3) = R(b1, b2, b3) - R(b2, b3))\r\n",
        "k = 3\r\n",
        "\r\n",
        "sse123 = np.matmul((Y - y_hat213).T, (Y - y_hat213))\r\n",
        "print(f\"MSE Model C1: {sse123}\")\r\n",
        "f123 = (Rb213 - Rb23)/(sse123 / (n - k - 1))\r\n",
        "print(f\"f b1 setelah ditambahkan b2, b3 Model C1: {f123}\")\r\n",
        "f_table = stats.f.ppf(0.95, 1, n-k-1)\r\n",
        "print(f\"f dari tabel: {f_table}\")"
      ],
      "outputs": [
        {
          "output_type": "stream",
          "name": "stdout",
          "text": "MSE Model C1: [[3.88749308e+25]]\nf b1 setelah ditambahkan b2, b3 Model C1: [[11.37900419]]\nf dari tabel: 3.9258342687862307\n"
        }
      ],
      "execution_count": 17,
      "metadata": {
        "jupyter": {
          "source_hidden": false,
          "outputs_hidden": false
        },
        "nteract": {
          "transient": {
            "deleting": false
          }
        },
        "gather": {
          "logged": 1686418895662
        }
      }
    },
    {
      "cell_type": "code",
      "source": [
        "def R_2vars(df, var1, var2):\r\n",
        "    n = df['GDP'].count()\r\n",
        "    Y = np.array([df['GDP']]).T\r\n",
        "    y_avg = np.average(Y)\r\n",
        "\r\n",
        "    X12 = np.array([np.ones(n), df[var1], df[var2]]).T\r\n",
        "    b12 = np.matmul(np.matmul(inv(np.matmul(X12.T, X12)), X12.T), Y)\r\n",
        "    y_hat12 = np.matmul(X12, b12) # Prediksi Y (GDP) menggunakan model 1\r\n",
        "    Rb12 = np.matmul((y_hat12 - y_avg).T, (y_hat12 - y_avg))\r\n",
        "    return Rb12, y_hat12"
      ],
      "outputs": [],
      "execution_count": 18,
      "metadata": {
        "jupyter": {
          "source_hidden": false,
          "outputs_hidden": false
        },
        "nteract": {
          "transient": {
            "deleting": false
          }
        },
        "gather": {
          "logged": 1686418896026
        }
      }
    },
    {
      "cell_type": "code",
      "source": [
        "# Cek apakah b2 masih signifikan setelah b3 ditambahkan\r\n",
        "# (R(b2 | b1, b3) = R(b1, b2, b3) - R(b1, b3))\r\n",
        "k = 3\r\n",
        "\r\n",
        "Rb13, _ = R_2vars(df, \"Exports\", \"Industrial production growth rate\")\r\n",
        "\r\n",
        "sse213 = np.matmul((Y - y_hat213).T, (Y - y_hat213))\r\n",
        "print(f\"MSE Model C1: {sse213}\")\r\n",
        "f213 = (Rb213 - Rb13)/(sse213 / (n - k - 1))\r\n",
        "print(f\"f b2 setelah ditambahkan b1, b3 Model C1: {f213}\")\r\n",
        "f_table = stats.f.ppf(0.95, 1, n-k-1)\r\n",
        "print(f\"f dari tabel: {f_table}\")"
      ],
      "outputs": [
        {
          "output_type": "stream",
          "name": "stdout",
          "text": "MSE Model C1: [[3.88749308e+25]]\nf b2 setelah ditambahkan b1, b3 Model C1: [[138.58263945]]\nf dari tabel: 3.9258342687862307\n"
        }
      ],
      "execution_count": 19,
      "metadata": {
        "jupyter": {
          "source_hidden": false,
          "outputs_hidden": false
        },
        "nteract": {
          "transient": {
            "deleting": false
          }
        },
        "gather": {
          "logged": 1686418896379
        }
      }
    },
    {
      "cell_type": "code",
      "source": [
        "# Calculate Rb and y_hat for 4-variable models\r\n",
        "Rb2134, y_hat2134 = R_vars(df, 'Imports', 'Exports', 'Industrial production growth rate', 'Investment')\r\n",
        "Rb2135, y_hat2135 = R_vars(df, 'Imports', 'Exports', 'Industrial production growth rate', 'Unemployment rate')"
      ],
      "outputs": [],
      "execution_count": 20,
      "metadata": {
        "jupyter": {
          "source_hidden": false,
          "outputs_hidden": false
        },
        "nteract": {
          "transient": {
            "deleting": false
          }
        },
        "gather": {
          "logged": 1686418896693
        }
      }
    },
    {
      "cell_type": "code",
      "source": [
        "print(Rb2134)\r\n",
        "print(Rb2135)"
      ],
      "outputs": [
        {
          "output_type": "stream",
          "name": "stdout",
          "text": "[[1.79315321e+26]]\n[[1.78767105e+26]]\n"
        }
      ],
      "execution_count": 21,
      "metadata": {
        "jupyter": {
          "source_hidden": false,
          "outputs_hidden": false
        },
        "nteract": {
          "transient": {
            "deleting": false
          }
        },
        "gather": {
          "logged": 1686418897034
        }
      }
    },
    {
      "cell_type": "code",
      "source": [
        "# Cek penambahan b4 signifikan atau tidak (R(b4 | b1, b2, b3))\r\n",
        "# (R(b4 | b1, b2, b3) = R(b1, b2, b3, b4) - R(b1, b2, b3))\r\n",
        "k = 4\r\n",
        "\r\n",
        "sse41234 = np.matmul((Y - y_hat2134).T, (Y - y_hat2134))\r\n",
        "print(f\"MSE Model D1: {sse41234}\")\r\n",
        "f41234 = (Rb2134 - Rb213)/(sse41234 / (n - k - 1))\r\n",
        "print(f\"f b4 setelah penambahan 4 variabel pada Model D1: {f41234}\")\r\n",
        "f_table = stats.f.ppf(0.95, 1, n-k-1)\r\n",
        "print(f\"f dari tabel: {f_table}\")"
      ],
      "outputs": [
        {
          "output_type": "stream",
          "name": "stdout",
          "text": "MSE Model D1: [[3.82289012e+25]]\nf b4 setelah penambahan 4 variabel pada Model D1: [[1.87578719]]\nf dari tabel: 3.926606812744345\n"
        }
      ],
      "execution_count": 22,
      "metadata": {
        "jupyter": {
          "source_hidden": false,
          "outputs_hidden": false
        },
        "nteract": {
          "transient": {
            "deleting": false
          }
        },
        "gather": {
          "logged": 1686418897325
        }
      }
    },
    {
      "cell_type": "code",
      "source": [
        "# Cek penambahan b5 signifikan atau tidak (R(b5 | b1, b2, b3))\r\n",
        "# (R(b5 | b1, b2, b3) = R(b1, b2, b3, b5) - R(b1, b2, b3))\r\n",
        "k = 4\r\n",
        "\r\n",
        "sse2135 = np.matmul((Y - y_hat2135).T, (Y - y_hat2135))\r\n",
        "print(f\"MSE Model D2: {sse2135}\")\r\n",
        "f2135 = (Rb2135 - Rb213)/(sse2135 / (n - k - 1))\r\n",
        "print(f\"f b5 setelah penambahan 4 variabel pada Model D2: {f2135}\")\r\n",
        "f_table = stats.f.ppf(0.95, 1, n-k-1)\r\n",
        "print(f\"f dari tabel: {f_table}\")"
      ],
      "outputs": [
        {
          "output_type": "stream",
          "name": "stdout",
          "text": "MSE Model D2: [[3.87771164e+25]]\nf b5 setelah penambahan 4 variabel pada Model D2: [[0.27999489]]\nf dari tabel: 3.926606812744345\n"
        }
      ],
      "execution_count": 23,
      "metadata": {
        "jupyter": {
          "source_hidden": false,
          "outputs_hidden": false
        },
        "nteract": {
          "transient": {
            "deleting": false
          }
        },
        "gather": {
          "logged": 1686418897642
        }
      }
    },
    {
      "cell_type": "code",
      "source": [
        "# Calculate final model coefficients\r\n",
        "bfinal = calculate_b(create_X(df, 'Exports', 'Imports', 'Industrial production growth rate'), np.array([df['GDP']]).T)\r\n",
        "print(bfinal)"
      ],
      "outputs": [
        {
          "output_type": "stream",
          "name": "stdout",
          "text": "[[-1.45787120e+11]\n [-3.24013692e+00]\n [ 9.51317989e+00]\n [ 2.37756770e+10]]\n"
        }
      ],
      "execution_count": 24,
      "metadata": {
        "jupyter": {
          "source_hidden": false,
          "outputs_hidden": false
        },
        "nteract": {
          "transient": {
            "deleting": false
          }
        },
        "gather": {
          "logged": 1686418897932
        }
      }
    }
  ],
  "metadata": {
    "kernelspec": {
      "name": "python310-sdkv2",
      "language": "python",
      "display_name": "Python 3.10 - SDK v2"
    },
    "language_info": {
      "name": "python",
      "version": "3.10.10",
      "mimetype": "text/x-python",
      "codemirror_mode": {
        "name": "ipython",
        "version": 3
      },
      "pygments_lexer": "ipython3",
      "nbconvert_exporter": "python",
      "file_extension": ".py"
    },
    "microsoft": {
      "ms_spell_check": {
        "ms_spell_check_language": "en"
      },
      "host": {
        "AzureML": {
          "notebookHasBeenCompleted": true
        }
      }
    },
    "kernel_info": {
      "name": "python310-sdkv2"
    },
    "nteract": {
      "version": "nteract-front-end@1.0.0"
    }
  },
  "nbformat": 4,
  "nbformat_minor": 2
}